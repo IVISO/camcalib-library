{
 "cells": [
  {
   "cell_type": "markdown",
   "id": "56b9f698-4921-4efc-83a8-f66f941a9ca5",
   "metadata": {},
   "source": [
    "# Lidar-Camera calibration using the all new python interface!\n",
    "\n",
    "In this blog post we explain how to perform a lidar-camera calibration with our newly released calibration library. We will calibrate a sensor setup consisting of a Realsense D455 stereo camera and an Ouster OS1 Lidar using our custom design April-Checkerboard."
   ]
  },
  {
   "cell_type": "markdown",
   "id": "3f22cc72-071d-41d8-a797-0762e68bd57c",
   "metadata": {},
   "source": [
    "## Motivation\n",
    "Autonomous systems need multiple sensors to ensure they can perceive their environment accurately and reliably. Different sensors capture various types of data—like visual, thermal, and spatial information—allowing the system to create a comprehensive understanding of its surroundings. This redundancy helps to overcome the limitations of individual sensors, such as poor performance in certain conditions, and enhances safety, precision, and robustness in decision-making. Multiple sensors working together ensure that the system can adapt to a wide range of scenarios, making it more reliable and effective in real-world applications. \n",
    "\n",
    "Good sensor calibration is crucial to ensure that all sensors provide accurate and consistent data, enabling the autonomous system to make precise and reliable decisions. Poor calibration can lead to errors in perception and interpretation, compromising the system's performance and safety."
   ]
  },
  {
   "cell_type": "markdown",
   "id": "9fb1447c-58d9-4cc3-8969-3da873c8166e",
   "metadata": {},
   "source": [
    "## Sensor Setup used in this tutorial\n",
    "The setup involves a RealSense D455 stereo camera and an Ouster OS1 LiDAR, both rigidly mounted on the same mechanical base. Although in this example we use the OS1 you might use any other Ouster Lidar. \n",
    "\n",
    "![Sensor Setup](examples/02-camera-lidar/resources/imgs/sensor_setup_small.png)"
   ]
  },
  {
   "cell_type": "markdown",
   "id": "321bca80-8cec-4d45-ba35-f287f9b55031",
   "metadata": {},
   "source": [
    "## Data Requirements\n",
    "The requirements for the lidar calibration process are the following \n",
    "\n",
    "- A rough initial guess of the camera-to-lidar transformation (up to 5°-10°). (Or a board with reflective tape if this doesn't interfere with your lidar point cloud)\n",
    "- A supported calibration target\n",
    "\n",
    "## Calibration Target used in this example\n",
    "\n",
    "For the calibration target we use combination of April Tags and a Checkerboard - that we call April-Checkerboard. However, you may use other supported calibration boards. We refer you to our previous [Blog post](https://www.camcalib.io/post/build-your-own-calibration-tools-and-application-with-the-newest-camcalib-library-release-for-multi)\n",
    "\n",
    "![Calibration Target](resources/imgs/target_small.png)\n",
    "\n",
    "## Lidar calibration with different targets\n",
    "The lidar calibration can consists of two steps.\n",
    "\n",
    "1. Board plane alignment\n",
    "2. Intensity alignment (refinement step) - if your lidar provides intensity values.\n",
    "\n",
    "Step 1 can be performed with every board type our software supports. However, step 2 requires you to use one of the following boards\n",
    "- April Checkerboard\n",
    "- Radon Board (requires openCV >=4.3)\n",
    "- Checkerboard (requires lidar and camera messages to have the same timestamp!)"
   ]
  },
  {
   "cell_type": "markdown",
   "id": "7f64e0ed-bc91-4af4-8b89-cc98b812b5a6",
   "metadata": {},
   "source": [
    "## Calibration Process\n",
    "In the following we show the step by step process of the calibration\n",
    "\n",
    "### Data recording (and best practices)\n",
    "We use rosbags for the calibration. Ideally, one for the intrinsic camera calibration and one for the lidar-camera extrinsics.\n",
    "We will skip the intrinsic calibration for this example and simple use the Realsense factory calibration.\n",
    "\n",
    "### Getting into the code\n",
    "The example doesn't need anything more than the camcalib module"
   ]
  },
  {
   "cell_type": "code",
   "execution_count": null,
   "id": "152a56d5-043e-4f34-896c-3d7f38857c6f",
   "metadata": {},
   "outputs": [],
   "source": [
    "import camcalib"
   ]
  },
  {
   "cell_type": "markdown",
   "id": "37b40b6a-9b49-4a4b-8f39-190727f68209",
   "metadata": {},
   "source": [
    "Next, we define our calibration target:"
   ]
  },
  {
   "cell_type": "code",
   "execution_count": 2,
   "id": "6ac8b65a-5d1d-46df-ac4c-29412c336a3c",
   "metadata": {},
   "outputs": [],
   "source": [
    "target = camcalib.targets.CcMarkerBoard(9, 7, 0.075, 0.1, \"A16h5\")"
   ]
  },
  {
   "cell_type": "markdown",
   "id": "f271fbf3-f2db-44db-a29d-ff97af82bd09",
   "metadata": {},
   "source": [
    "Load calibration data, either from folders on the filesystem or like here from a ROS bag:"
   ]
  },
  {
   "cell_type": "code",
   "execution_count": 3,
   "id": "ff796d82-3bfe-4620-b457-dd1beae9bebb",
   "metadata": {},
   "outputs": [
    {
     "data": {
      "application/vnd.jupyter.widget-view+json": {
       "model_id": "e079f953414343f2a8354ed573177396",
       "version_major": 2,
       "version_minor": 0
      },
      "text/plain": [
       "0it [00:00, ?it/s]"
      ]
     },
     "metadata": {},
     "output_type": "display_data"
    },
    {
     "name": "stdout",
     "output_type": "stream",
     "text": [
      "\n",
      "----\n",
      "\n",
      "infra1: found 17328 corners in 459 frames\n",
      "infra2: found 17376 corners in 459 frames\n"
     ]
    }
   ],
   "source": [
    "calib_data = camcalib.calibration.CalibrationData()\n",
    "calib_data.set_target(target)\n",
    "with camcalib.utils.ProgressBar() as p:\n",
    "    calib_data.from_bag('resources/data/2024-08-20-15-27-19_lidar.bag', progress_callback=p.update_progress)"
   ]
  },
  {
   "cell_type": "code",
   "execution_count": 4,
   "id": "008488cd-3589-4abb-b541-c6f4520ba8db",
   "metadata": {},
   "outputs": [],
   "source": [
    "result = camcalib.calibration.CalibrationResult.load('resources/data/sensors-lidar-init.yaml')"
   ]
  },
  {
   "cell_type": "markdown",
   "id": "0a0a5044-1c3d-4a56-b4dc-707e0c457ca8",
   "metadata": {},
   "source": [
    "The `sensors-lidar-init.yaml` contains the names of the sensors and also the cameras intrinsics.\n",
    "We also need to spceify the extrinsics for camera 1 as the identity (`axis_angle: [0, 0, 0]/translation: [0, 0, 0]`) and an initial guess of the extrinsics of the lidar (`axis_angle: [-1.1,  1.1, -1.1]/translation: [0.0, 0.1, 0.0]`).\n",
    "You can see the file below in the appendix."
   ]
  },
  {
   "cell_type": "markdown",
   "id": "1450549d-0bc9-4863-8898-64b8e9bfbafa",
   "metadata": {},
   "source": [
    "## Calibration (Simple)\n",
    "For best results we recommend performing the lidar calibration at least twice. Once without, and once with using the intensity optimization (`camcalib.CalibrationSettings.use_lidar_intensity_residuals = True`) if you lidar provides reliable intensity data.\n",
    "The simplest approach looks like the following"
   ]
  },
  {
   "cell_type": "markdown",
   "id": "4a3a1613-1972-4335-aac5-23c8e13362a0",
   "metadata": {},
   "source": [
    "**NOTE**: The cell output is unfortunately not in order!"
   ]
  },
  {
   "cell_type": "code",
   "execution_count": 14,
   "id": "3a72abb2-d17a-4aab-be7b-f54af903f89c",
   "metadata": {},
   "outputs": [
    {
     "name": "stdout",
     "output_type": "stream",
     "text": [
      "[INFO] [2024-08-21T13:31:33Z] [solve]: Final RMSE: 2.201879\n",
      "[INFO] [2024-08-21T13:31:33Z] [solve]: Solve problem time: 42.203581\n",
      "[INFO] [2024-08-21T13:31:33Z] [solve]: Success! Solver did converge after 20 iterations.\n",
      "[INFO] [2024-08-21T13:31:33Z] [calculate_covariances]: Detected 16 cores, using 15.\n",
      "[INFO] [2024-08-21T13:31:33Z] [calculate_covariances]: Covariance calculation time: 0.000626\n",
      "[INFO] [2024-08-21T13:31:33Z] [concatenate_extrinsics]: Concatenating the Results with sensor /infra1 as bridge.\n",
      "[INFO] [2024-08-21T13:31:33Z] [calibrate]: Target extrinsics\n",
      "[INFO] [2024-08-21T13:31:33Z] [calibrate]: \t(0 <- 0): Pose(r: [0, 0, 0], t: [0, 0, 0])\n",
      "[INFO] [2024-08-21T13:51:10Z] [initialize_intrinsics]: Available Camera Data: [/infra1, /infra2]\n",
      "[INFO] [2024-08-21T13:51:10Z] [initialize_intrinsics]: Camera /infra1 already initialized.\n",
      "[INFO] [2024-08-21T13:51:10Z] [initialize_intrinsics]: Camera /infra2 already initialized.\n",
      "[INFO] [2024-08-21T13:51:10Z] [initialize_parameters]: InitializeCamera: /infra1\n",
      "\tRMSE: 0.546119 | Mean Error: 0.360174 | Median Error: 0.230127\n",
      "Camera: /infra2\n",
      "\tRMSE: 0.514188 | Mean Error: 0.354184 | Median Error: 0.228085\n",
      "Total RMSE: 0.530372 | Mean Error: 0.357175 | Median Error: 0.229256\n",
      " intrinsic time: 0.000034\n",
      "[INFO] [2024-08-21T13:51:10Z] [initialize_extrinsics]: Initializing extrinsics of camera /infra1\n",
      "[INFO] [2024-08-21T13:51:10Z] [initialize_extrinsics]: Use 17328 features for camera /infra1\n",
      "[INFO] [2024-08-21T13:51:10Z] [initialize_extrinsics]: Initializing extrinsics of camera /infra2\n",
      "[INFO] [2024-08-21T13:51:10Z] [initialize_extrinsics]: Use 17376 features for camera /infra2\n",
      "[INFO] [2024-08-21T13:51:10Z] [initialize_bspline]: Initializing BSpline of degree 5 with 5 knots per second.\n",
      "[INFO] [2024-08-21T13:51:10Z] [initialize_extrinsics]: Initializing extrinsics of LIDAR /ouster\n",
      "[INFO] [2024-08-21T13:51:10Z] [initialize_parameters]: Initialize extrinsic time: 0.095424\n",
      "[INFO] [2024-08-21T13:51:10Z] [extract_targets_from_lidar]: Extracting calibration target from LIDAR data.\n",
      "[INFO] [2024-08-21T13:51:11Z] [extract_targets_from_lidar]: Extracted /ouster: 253 targets in 253 frames.\n",
      "[INFO] [2024-08-21T13:51:11Z] [extract_targets_from_lidar]: Lidar extraction time: 1.315764\n",
      "[INFO] [2024-08-21T13:51:11Z] [calibrate]: Build problem time: 0.003699\n",
      "[INFO] [2024-08-21T13:51:11Z] [calibrate]: Added 1511 residuals.\n",
      "[INFO] [2024-08-21T13:51:11Z] [calibrate]: Solving for 294 parameters.\n",
      "[INFO] [2024-08-21T13:51:11Z] [calibrate]: Calibrating sensors: [/infra1, /infra2, /ouster]\n",
      "[INFO] [2024-08-21T13:51:12Z] [solve]: Initial RMSE: 6.109031\n",
      "[INFO] [2024-08-21T13:51:27Z] [solve]:Camera: /infra1            ]: error: 0.0974078\n",
      "\tRMSE: 0.546041 | Mean Error: 0.360004 | Median Error: 0.229485\n",
      "Camera: /infra2\n",
      "\tRMSE: 0.514110 | Mean Error: 0.353946 | Median Error: 0.227862\n",
      "Total RMSE: 0.530294 | Mean Error: 0.356971 | Median Error: 0.228732\n",
      "Results:\n",
      "\tCameras\n",
      "\t\t/infra1: Pinhole(dt: 0, [655.714, 656.328, 647.291, 398.318] +/- [0 0 0 0])\n",
      "\t\t/infra2: Pinhole(dt: 0, [655.555, 656.181, 648.16, 398.849] +/- [0 0 0 0])\n",
      "\tLIDARs\n",
      "\t\t/ouster\n",
      "\tSensor extrinsics\n",
      "\t\t(/infra1 <- base): Pose(r: [0, 0, 0], t: [0, 0, 0])\n",
      "\t\t(/infra2 <- base): Pose(r: [8.73499e-05, 0.000491812, 0.00010809], t: [-0.0950493, 0.000146256, -6.37253e-05])\n",
      "\t\t(/ouster <- base): Pose(r: [-1.16517, 1.24054, -1.15777], t: [0.0929664, 0.237725, -0.114295])\n",
      "\n",
      "[INFO] [2024-08-21T13:51:50Z] [solve]: [======                   ]: error: 0.097370913:51:52Z] [solve]: [======                   ]: error: 0.0973709\n",
      "[INFO] [2024-08-21T13:51:54Z] [solve]: Final RMSE: 2.500763\n",
      "[INFO] [2024-08-21T13:51:54Z] [solve]: Solve problem time: 41.949605\n",
      "[INFO] [2024-08-21T13:51:54Z] [solve]: Success! Solver did converge after 20 iterations.\n",
      "[INFO] [2024-08-21T13:51:54Z] [calculate_covariances]: Detected 16 cores, using 15.\n",
      "[INFO] [2024-08-21T13:51:54Z] [calculate_covariances]: Covariance calculation time: 0.000582\n",
      "[INFO] [2024-08-21T13:51:54Z] [concatenate_extrinsics]: Concatenating the Results with sensor /infra1 as bridge.\n",
      "[INFO] [2024-08-21T13:51:54Z] [calibrate]: Target extrinsics\n",
      "[INFO] [2024-08-21T13:51:54Z] [calibrate]: \t(0 <- 0): Pose(r: [0, 0, 0], t: [0, 0, 0])\n",
      "[INFO] [2024-08-21T13:51:54Z] [concatenate_extrinsics]: Concatenating the Results with sensor /infra1 as bridge.\n",
      "[INFO] [2024-08-21T13:51:54Z] [calibrate]: Build problem time: 0.002688\n",
      "[INFO] [2024-08-21T13:51:54Z] [calibrate]: Added 1005 residuals.\n",
      "[INFO] [2024-08-21T13:51:54Z] [calibrate]: Solving for 292 parameters.\n",
      "[INFO] [2024-08-21T13:51:54Z] [calibrate]: Calibrating sensors: [/infra1, /infra2]\n",
      "[INFO] [2024-08-21T13:51:54Z] [solve]: Initial RMSE: 1.757572\n",
      "[INFO] [2024-08-21T13:51:54Z] [solve]: [=                        ]: error: 0.421908\n"
     ]
    }
   ],
   "source": [
    "# assumption about the accuracy of the initial guess (should not be higher than 10 [deg])\n",
    "camcalib.DataSettings.maximum_initial_angle_error = 5\n",
    "iterations = 2\n",
    "\n",
    "with camcalib.calibration.CalibratorSession() as cc:\n",
    "    for i in range(iterations): \n",
    "        # unfortunately our test lidar does not have reliable intensity values\n",
    "        if i > 0:\n",
    "           camcalib.use_lidar_intensity_residuals = True\n",
    "           camcalib.DataSettings.maximum_initial_angle_error = 1\n",
    "        cc.add_calibration_data(calib_data)\n",
    "        cc.add_calibration(result)\n",
    "        result, summary = cc.calibrate()\n",
    "        stats = cc.get_metrics().calculate_reprojection_errors()\n",
    "        print(stats)\n",
    "print(result)"
   ]
  },
  {
   "cell_type": "markdown",
   "id": "102102bc-3382-4617-8c01-4554eb07b93f",
   "metadata": {},
   "source": [
    "As we can see, we perform 3 steps.\n",
    "1. Set the accuracy of the inital guess for the lidar calibration.  \n",
    "   This basically defines a search region for the lidar target.\n",
    "   The larger the value, the larger the search region and also the more potential outliers will be in the calibration.\n",
    "2. Load data (just like for a standard camera calibration)\n",
    "3. Calibrate without intensities\n",
    "4. Calibrate again (using the results of the first calibration as initial guess), but this time with intensity optimization."
   ]
  },
  {
   "cell_type": "markdown",
   "id": "965b4dd3-c725-4803-b7da-f6eeb60393d9",
   "metadata": {},
   "source": [
    "## Calibration (Advanced and usually more accurate)\n",
    "As discussed previously we can set the accuracy of the initial guess, which also influences the amount of potential outliers in our data.\n",
    "Therefore, we recommend to start with a realistic guess and calibrate multiple times, while steadily decreasing this parameter (for less outliers).\n",
    "Also, we can define an outlier metric to perform an early stopping if the result looks accurate."
   ]
  },
  {
   "cell_type": "markdown",
   "id": "1c3f3bb1-da84-4eac-895b-bd8130983d7a",
   "metadata": {},
   "source": [
    "**NOTE**: The cell output is unfortunately not in order!"
   ]
  },
  {
   "cell_type": "code",
   "execution_count": 13,
   "id": "fcd72622-7dad-45ea-8d59-2e6abaaedb9b",
   "metadata": {},
   "outputs": [
    {
     "name": "stdout",
     "output_type": "stream",
     "text": [
      "[INFO] [2024-08-21T13:26:50Z] [solve]: Final RMSE: 2.201872\n",
      "[INFO] [2024-08-21T13:26:50Z] [solve]: Solve problem time: 41.449999\n",
      "[INFO] [2024-08-21T13:26:50Z] [solve]: Success! Solver did converge after 20 iterations.\n",
      "[INFO] [2024-08-21T13:26:50Z] [calculate_covariances]: Detected 16 cores, using 15.\n",
      "[INFO] [2024-08-21T13:26:50Z] [calculate_covariances]: Covariance calculation time: 0.000524\n",
      "[INFO] [2024-08-21T13:26:50Z] [concatenate_extrinsics]: Concatenating the Results with sensor /infra1 as bridge.\n",
      "[INFO] [2024-08-21T13:26:50Z] [calibrate]: Target extrinsics\n",
      "[INFO] [2024-08-21T13:26:50Z] [calibrate]: \t(0 <- 0): Pose(r: [0, 0, 0], t: [0, 0, 0])\n",
      "[INFO] [2024-08-21T13:28:33Z] [initialize_intrinsics]: Available Camera Data: [/infra1, /infra2]\n",
      "[INFO] [2024-08-21T13:28:33Z] [initialize_intrinsics]: Camera /infra1 already initialized.\n",
      "[INFO] [2024-08-21T13:28:33Z] [initialize_intrinsics]: Camera /infra2 already initialized.\n",
      "[INFO] [2024-08-21T13:28:33Z] [initialize_parameters]: Initialize intrinsic time: 0.000024\n",
      "[INFO] [2024-08-21T13:28:33Z] [initialize_extrinsics]: Initializing extrinsics of camera /infra1\n",
      "[INFO] [2024-08-21T13:28:33Z] [initialize_extrinsics]: Use 17328 features for camera /infra1\n",
      "[INFO] [2024-08-21T13:28:33Z] [initialize_extrinsics]: Initializing extrinsics of camera /infra2\n",
      "[INFO] [2024-08-21T13:28:33Z] [initialize_extrinsics]: Use 17376 features for camera /infra2\n",
      "[INFO] [2024-08-21T13:28:33Z] [initialize_bspline]: Initializing BSpline of degree 5 with 5 knots per second.\n",
      "[INFO] [2024-08-21T13:28:33Z] [initialize_extrinsics]: Initializing extrinsics of LIDAR /ouster\n",
      "[INFO] [2024-08-21T13:28:33Z] [initialize_parameters]: Initialize extrinsic time: 0.124271\n",
      "[INFO] [2024-08-21T13:28:33Z] [extract_targets_from_lidar]: Extracting calibration target from LIDAR data.\n",
      "[INFO] [2024-08-21T13:28:36Z] [extract_targets_from_lidar]: Extracted /ouster: 253 targets in 253 frames.\n",
      "[INFO] [2024-08-21T13:28:36Z] [extract_targets_from_lidar]: Lidar extraction time: 2.512452\n",
      "[INFO] [2024-08-21T13:28:36Z] [calibrate]: Build problem time: 0.004276\n",
      "[INFO] [2024-08-21T13:28:36Z] [calibrate]: Added 1511 residuals.\n",
      "[INFO] [2024-08-21T13:28:36Z] [calibrate]: Solving for 294 parameters.\n",
      "[INFO] [2024-08-21T13:28:36Z] [calibrate]: Calibrating sensors: [/infra1, /infra2, /ouster]\n",
      "[INFO] [2024-08-21T13:28:36Z] [solve]: Initial RMSE: 6.109031\n",
      "[INFO] [2024-08-21T13:29:16Z] [solve]: [======                   ]: error: 0.0973709\n",
      "[INFO] [2024-08-21T13:29:18Z] [solve]: Final RMSE: 2.500763\n",
      "[INFO] [2024-08-21T13:29:18Z] [solve]: Solve problem time: 42.198691\n",
      "[INFO] [2024-08-21T13:29:18Z] [solve]: Success! Solver did converge after 20 iterations.\n",
      "[INFO] [2024-08-21T13:29:18Z] [calculate_covariances]: Detected 16 cores, using 15.\n",
      "[INFO] [2024-08-21T13:29:18Z] [calculate_covariances]: Covariance calculation time: 0.000557\n",
      "[INFO] [2024-08-21T13:29:18Z] [concatenate_extrinsics]: Concatenating the Results with sensor /infra1 as bridge.\n",
      "[INFO] [2024-08-21T13:29:18Z] [calibrate]: Target extrinsics\n",
      "[INFO] [2024-08-21T13:29:18Z] [calibrate]: \t(0 <- 0): Pose(r: [0, 0, 0], t: [0, 0, 0])\n",
      "[INFO] [2024-08-21T13:29:20Z] [initialize_intrinsics]: Available Camera Data: [/infra1, /infra2]\n",
      "[INFO] [2024-08-21T13:29:20Z] [initialize_intrinsics]: Camera /infra1 already initialized.\n",
      "[INFO] [2024-08-21T13:29:20Z] [initialize_intrinsics]: Camera /infra2 already initialized.\n",
      "[INFO] [2024-08-21T13:29:20Z] [initialize_parameters]: Initialize intrinsic time: 0.000032\n",
      "[INFO] [2024-08-21T13:29:20Z] [initialize_extrinsics]: Initializing extrinsics of camera /infra1\n",
      "[INFO] [2024-08-21T13:29:20Z] [initialize_extrinsics]: Use 17328 features for camera /infra1\n",
      "[INFO] [2024-08-21T13:29:20Z] [initialize_extrinsics]: Initializing extrinsics of camera /infra2\n",
      "[INFO] [2024-08-21T13:29:20Z] [initialize_extrinsics]: Use 17376 features for camera /infra2\n",
      "[INFO] [2024-08-21T13:29:20Z] [initialize_bspline]: Initializing BSpline of degree 5 with 5 knots per second.\n",
      "[INFO] [2024-08-21T13:29:20Z] [initialize_extrinsics]: Initializing extrinsics of LIDAR /ouster\n",
      "[INFO] [2024-08-21T13:29:20Z] [initialize_parameters]: Initialize extrinsic time: 0.096929\n",
      "[INFO] [2024-08-21T13:29:20Z] [extract_targets_from_lidar]: Extracting calibration target from LIDAR data.\n",
      "[INFO] [2024-08-21T13:29:20Z] [extract_targets_from_lidar]: Extracted /ouster: 253 targets in 253 frames.\n",
      "[INFO] [2024-08-21T13:29:20Z] [extract_targets_from_lidar]: Lidar extraction time: 0.769938\n",
      "[INFO] [2024-08-21T13:29:20Z] [calibrate]: Build problem time: 0.003693\n",
      "[INFO] [2024-08-21T13:29:20Z] [calibrate]: Added 1511 residuals.\n",
      "[INFO] [2024-08-21T13:29:20Z] [calibrate]: Solving for 294 parameters.\n",
      "[INFO] [2024-08-21T13:29:20Z] [calibrate]: Calibrating sensors: [/infra1, /infra2, /ouster]\n",
      "[INFO] [2024-08-21T13:29:21Z] [solve]: Initial RMSE: 6.086921\n",
      "[INFO] [2024-08-21T13:30:01Z] [solve]: [======                   ]: error: 0.0974248\n",
      "[INFO] [2024-08-21T13:30:03Z] [solve]: Final RMSE: 2.548276\n",
      "[INFO] [2024-08-21T13:30:03Z] [solve]: Solve problem time: 41.802603\n",
      "[INFO] [2024-08-21T13:30:03Z] [solve]: Success! Solver did converge after 20 iterations.\n",
      "[INFO] [2024-08-21T13:30:03Z] [calculate_covariances]: Detected 16 cores, using 15.\n",
      "[INFO] [2024-08-21T13:30:03Z] [calculate_covariances]: Covariance calculation time: 0.000544\n",
      "[INFO] [2024-08-21T13:30:03Z] [concatenate_extrinsics]: Concatenating the Results with sensor /infra1 as bridge.\n",
      "[INFO] [2024-08-21T13:30:03Z] [calibrate]: Target extrinsics\n",
      "[INFO] [2024-08-21T13:30:03Z] [calibrate]: \t(0 <- 0): Pose(r: [0, 0, 0], t: [0, 0, 0])\n",
      "[INFO] [2024-08-21T13:30:04Z] [initialize_intrinsics]: Available Camera Data: [/infra1, /infra2]\n",
      "[INFO] [2024-08-21T13:30:04Z] [initialize_intrinsics]: Camera /infra1 already initialized.\n",
      "[INFO] [2024-08-21T13:30:04Z] [initialize_intrinsics]: Camera /infra2 already initialized.\n",
      "[INFO] [2024-08-21T13:30:04Z] [initialize_parameters]: Initialize intrinsic time: 0.000032\n",
      "[INFO] [2024-08-21T13:30:04Z] [initialize_extrinsics]: Initializing extrinsics of camera /infra1\n",
      "[INFO] [2024-08-21T13:30:04Z] [initialize_extrinsics]: Use 17328 features for camera /infra1\n",
      "[INFO] [2024-08-21T13:30:04Z] [initialize_extrinsics]: Initializing extrinsics of camera /infra2\n",
      "[INFO] [2024-08-21T13:30:04Z] [initialize_extrinsics]: Use 17376 features for camera /infra2\n",
      "[INFO] [2024-08-21T13:30:04Z] [initialize_bspline]: Initializing BSpline of degree 5 with 5 knots per second.\n",
      "[INFO] [2024-08-21T13:30:04Z] [initialize_extrinsics]: Initializing extrinsics of LIDAR /ouster\n",
      "[INFO] [2024-08-21T13:30:04Z] [initialize_parameters]: Initialize extrinsic time: 0.093536\n",
      "[INFO] [2024-08-21T13:30:04Z] [extract_targets_from_lidar]: Extracting calibration target from LIDAR data.\n",
      "[INFO] [2024-08-21T13:30:05Z] [extract_targets_from_lidar]: Extracted /ouster: 253 targets in 253 frames.\n",
      "[INFO] [2024-08-21T13:30:05Z] [extract_targets_from_lidar]: Lidar extraction time: 0.696540\n",
      "[INFO] [2024-08-21T13:30:05Z] [calibrate]: Build problem time: 0.003691\n",
      "[INFO] [2024-08-21T13:30:05Z] [calibrate]: Added 1511 residuals.\n",
      "[INFO] [2024-08-21T13:30:05Z] [calibrate]: Solving for 294 parameters.\n",
      "[INFO] [2024-08-21T13:30:05Z] [calibrate]: Calibrating sensors: [/infra1, /infra2, /ouster]\n",
      "[INFO] [2024-08-21T13:30:05Z] [solve]: Initial RMSE: 5.908313\n",
      "[INFO] [2024-08-21T13:30:45Z] [solve]: [======                   ]: error: 0.0978411\n",
      "[INFO] [2024-08-21T13:30:47Z] [solve]: Final RMSE: 2.204948\n",
      "[INFO] [2024-08-21T13:30:47Z] [solve]: Solve problem time: 41.776447\n",
      "[INFO] [2024-08-21T13:30:47Z] [solve]: Success! Solver did converge after 20 iterations.\n",
      "[INFO] [2024-08-21T13:30:47Z] [calculate_covariances]: Detected 16 cores, using 15.\n",
      "[INFO] [2024-08-21T13:30:47Z] [calculate_covariances]: Covariance calculation time: 0.000530\n",
      "[INFO] [2024-08-21T13:30:47Z] [concatenate_extrinsics]: Concatenating the Results with sensor /infra1 as bridge.\n",
      "[INFO] [2024-08-21T13:30:47Z] [calibrate]: Target extrinsics\n",
      "[INFO] [2024-08-21T13:30:47Z] [calibrate]: \t(0 <- 0): Pose(r: [0, 0, 0], t: [0, 0, 0])\n",
      "[INFO] [2024-08-21T13:30:48Z] [initialize_intrinsics]: Available Camera Data: [/infra1, /infra2]\n",
      "[INFO] [2024-08-21T13:30:48Z] [initialize_intrinsics]: Camera /infra1 already initialized.\n",
      "[INFO] [2024-08-21T13:30:48Z] [initialize_intrinsics]: Camera /infra2 already initialized.\n",
      "[INFO] [2024-08-21T13:30:48Z] [initialize_parameters]: Initialize intrinsic time: 0.000019\n",
      "[INFO] [2024-08-21T13:30:48Z] [initialize_extrinsics]: Initializing extrinsics of camera /infra1\n",
      "[INFO] [2024-08-21T13:30:48Z] [initialize_extrinsics]: Use 17328 features for camera /infra1\n",
      "[INFO] [2024-08-21T13:30:48Z] [initialize_extrinsics]: Initializing extrinsics of camera /infra2\n",
      "[INFO] [2024-08-21T13:30:48Z] [initialize_extrinsics]: Use 17376 features for camera /infra2\n",
      "[INFO] [2024-08-21T13:30:48Z] [initialize_bspline]: Initializing BSpline of degree 5 with 5 knots per second.\n",
      "[INFO] [2024-08-21T13:30:48Z] [initialize_extrinsics]: Initializing extrinsics of LIDAR /ouster\n",
      "[INFO] [2024-08-21T13:30:48Z] [initialize_parameters]: Initialize extrinsic time: 0.101159\n",
      "[INFO] [2024-08-21T13:30:48Z] [extract_targets_from_lidar]: Extracting calibration target from LIDAR data.\n",
      "[INFO] [2024-08-21T13:30:50Z] [extract_targets_from_lidar]: Extracted /ouster: 253 targets in 253 frames.\n",
      "[INFO] [2024-08-21T13:30:50Z] [extract_targets_from_lidar]: Lidar extraction time: 2Results:\n",
      "\tCameras\n",
      "\t\t/infra1: Pinhole(dt: 0, [655.714, 656.328, 647.291, 398.318] +/- [0 0 0 0])\n",
      "\t\t/infra2: Pinhole(dt: 0, [655.555, 656.181, 648.16, 398.849] +/- [0 0 0 0])\n",
      "\tLIDARs\n",
      "\t\t/ouster\n",
      "\tSensor extrinsics\n",
      "\t\t(/infra1 <- base): Pose(r: [0, 0, 0], t: [0, 0, 0])\n",
      "\t\t(/infra2 <- base): Pose(r: [8.67021e-05, 0.000485042, 0.000106136], t: [-0.0950361, 0.000145971, -6.55041e-05])\n",
      "\t\t(/ouster <- base): Pose(r: [-1.16264, 1.23839, -1.15643], t: [0.0896113, 0.227705, -0.121276])\n",
      "\n",
      ".178981\n",
      "[INFO] [2024-08-21T13:30:50Z] [calibrate]: Build problem time: 0.005924\n",
      "[INFO] [2024-08-21T13:30:50Z] [calibrate]: Added 1511 residuals.\n",
      "[INFO] [2024-08-21T13:30:50Z] [calibrate]: Solving for 294 parameters.\n",
      "[INFO] [2024-08-21T13:30:50Z] [calibrate]: Calibrating sensors: [/infra1, /infra2, /ouster]\n",
      "[INFO] [2024-08-21T13:30:51Z] [solve]: Initial RMSE: 5.917778\n",
      "[INFO] [2024-08-21T13:31:31Z] [solve]: [======                   ]: error: 0.0979104\n"
     ]
    }
   ],
   "source": [
    "calibration_it_count = 0     # calibration iteration counter\n",
    "lidar_error_threshold = 0.05  # threshold for recalibration\n",
    "min_iterations = 4           # perform multiple calibration refining the accuracy each time\n",
    "max_iterations = 5           # maximum number of iterations for lidar calibration\n",
    "\n",
    "# assumption about the accuracy of the initial guess (should not be higher than 10 [deg])\n",
    "camcalib.DataSettings.maximum_initial_angle_error = 5\n",
    "\n",
    "# This is the condition for the lidar errors to be too high -> recalibrate\n",
    "lidar_error_check = lambda le: le.total_point_rmse / le.total_point_median > 3 or le.total_point_rmse > lidar_error_threshold\n",
    "\n",
    "while calibration_it_count < min_iterations or (lidar_errors and lidar_error_check(lidar_errors)):\n",
    "    if calibration_it_count > 0:\n",
    "        # after first calibration, use intensities and assume a lidar2cam angular error of max 2°\n",
    "        camcalib.DataSettings.maximum_initial_angle_error = max_iterations / calibration_it_count\n",
    "        camcalib.CalibrationSettings.use_lidar_intensity_residuals = True\n",
    "    with camcalib.calibration.CalibratorSession() as cc:\n",
    "\n",
    "        # Set data and perform calibration\n",
    "        cc.add_calibration_data(calib_data)\n",
    "        cc.add_calibration(result)\n",
    "\n",
    "        # perform calibration and compute metrics/errors\n",
    "        result, summary = cc.calibrate()\n",
    "        metrics = cc.get_metrics()\n",
    "        lidar_errors = metrics.calculate_lidar_target_errors()\n",
    "        calibration_it_count += 1\n",
    "\n",
    "    if calibration_it_count >= max_iterations:\n",
    "        print(f\"Reached max iterations {max_iterations}, stopping!\")\n",
    "        break\n",
    "        \n",
    "    if lidar_errors and lidar_error_check(lidar_errors):\n",
    "        # check if lidar errors are in bounds\n",
    "        print(\"Lidar errors too high, recalibrating\")\n",
    "print(result)"
   ]
  },
  {
   "cell_type": "markdown",
   "id": "834acc2a-6806-4002-b387-e6523644f880",
   "metadata": {},
   "source": [
    "If you like, you can now save the calibration as a yaml file"
   ]
  },
  {
   "cell_type": "code",
   "execution_count": 12,
   "id": "584794bd",
   "metadata": {},
   "outputs": [],
   "source": [
    "result.save(\"resources/data/sensors-lidar-result.yaml\")"
   ]
  },
  {
   "cell_type": "markdown",
   "id": "a784dbd9-be71-4ee5-b34f-b2b7f0712f9b",
   "metadata": {},
   "source": [
    "## Visualization of the result\n",
    "Looking at the results as coordinate systems we can see, that it matches the physical setup above.\n",
    "\n",
    "![Result Coordinate Systems](resources/imgs/calib_cosys.png)"
   ]
  },
  {
   "cell_type": "markdown",
   "id": "805c0664-c0cf-43c4-9efa-4c6537bbb1ed",
   "metadata": {},
   "source": [
    "## Visualization of Lidar points on Target\n",
    "Here, we want to show a before and after illustration of the lidar points on the camera target.\n",
    "This shows the initial miss-alignment of the initial guess vs. the calibrated result.\n",
    "\n",
    "![Point Comparison](resources/imgs/lidar_large_before_n_after.png)"
   ]
  },
  {
   "cell_type": "markdown",
   "id": "593cd580-46c4-4592-8be5-efb5b93ffaaf",
   "metadata": {},
   "source": [
    "# Comparison of initial guess vs results\n",
    "Comparing the initial guess with the actual result gives us\n",
    "\n",
    "### Initial Guess\n",
    "`axis_angle: [-1.1,  1.1, -1.1]`  \n",
    "`translation: [0.0, 0.1, 0.0]`  \n",
    "### Actual Calibration\n",
    "`axis_angle: [-1.162643609301952, 1.2383899554908, -1.156430220577199]`  \n",
    "`translation: [0.08961128552674028, 0.227704752288137, -0.1212762302770224]`\n",
    "\n",
    "### Difference\n",
    "This is an approximate difference in rotation of **9°** and a translation of around **20cm**\n",
    "These values are also typically the boundaries we suggest for the inaccuracy for the initial guess of the lidar pose."
   ]
  },
  {
   "cell_type": "markdown",
   "id": "e89f7d18-f100-479c-8b76-31ac17d7e47c",
   "metadata": {},
   "source": [
    "# Conclusion\n",
    "With this tutorial you should now be able to use our new calibration library to perform a camera to lidar calibration. You should know the capabilities and requirements to do so, and also the correct workflow.\n",
    "If you have any questions about the software or the calibration process, feel free to contact us."
   ]
  },
  {
   "cell_type": "markdown",
   "id": "30c17db1-8815-41f7-8a7c-fb9b33c41200",
   "metadata": {},
   "source": [
    "# Appendix\n",
    "## sensors-lidar-init.yaml"
   ]
  },
  {
   "cell_type": "code",
   "execution_count": null,
   "id": "ff79076d-f566-4c19-8604-b1b969fc396d",
   "metadata": {},
   "outputs": [],
   "source": [
    "sensors:\n",
    "  camera1/infra1/image_rect_raw:\n",
    "    extrinsics:\n",
    "      axis_angle: [0, 0, 0]\n",
    "      translation: [0, 0, 0]\n",
    "    intrinsics:\n",
    "      parameters:\n",
    "        fx: 655.714\n",
    "        fy: 656.328\n",
    "        cx: 647.291\n",
    "        cy: 398.318\n",
    "        image_size:\n",
    "        - 1280\n",
    "        - 800\n",
    "      type: Pinhole\n",
    "    extrinsics:\n",
    "      axis_angle: [0, 0, 0]\n",
    "      translation: [0, 0, 0]\n",
    "  camera1/infra2/image_rect_raw:\n",
    "    intrinsics:\n",
    "      parameters:\n",
    "        fx: 655.555\n",
    "        fy: 656.181\n",
    "        cx: 648.16\n",
    "        cy: 398.849\n",
    "        image_size:\n",
    "        - 1280\n",
    "        - 800\n",
    "      type: Pinhole\n",
    "  ouster/points:\n",
    "    extrinsics: \n",
    "      axis_angle: [-1.1,  1.1, -1.1]\n",
    "      translation: [0.0, 0.1, 0.0]\n",
    "    intrinsics:\n",
    "      type: LIDAR"
   ]
  },
  {
   "cell_type": "markdown",
   "id": "3dd49e6d-8deb-4d36-946f-e84d8d829217",
   "metadata": {},
   "source": [
    "## sensors-lidar-result.yaml"
   ]
  },
  {
   "cell_type": "code",
   "execution_count": null,
   "id": "db7e4212-6f61-43da-ab81-d3fa760ff2a7",
   "metadata": {},
   "outputs": [],
   "source": [
    "sensors:\n",
    "  camera1/infra1/image_rect_raw:\n",
    "    type: CAMERA\n",
    "    intrinsics:\n",
    "      type: Pinhole\n",
    "      parameters:\n",
    "        fx: 655.7140000000001\n",
    "        fy: 656.328\n",
    "        cx: 647.2910000000001\n",
    "        cy: 398.318\n",
    "        image_size:\n",
    "          - 1280\n",
    "          - 800\n",
    "    extrinsics:\n",
    "      axis_angle: [0, 0, 0]\n",
    "      translation: [0, 0, 0]\n",
    "  camera1/infra2/image_rect_raw:\n",
    "    type: CAMERA\n",
    "    intrinsics:\n",
    "      type: Pinhole\n",
    "      parameters:\n",
    "        fx: 655.5549999999999\n",
    "        fy: 656.181\n",
    "        cx: 648.16\n",
    "        cy: 398.849\n",
    "        image_size:\n",
    "          - 1280\n",
    "          - 800\n",
    "    extrinsics:\n",
    "      axis_angle: [8.670206090169928e-05, 0.0004850419829581639, 0.0001061361933542322]\n",
    "      translation: [-0.09503610933865565, 0.0001459713103361074, -6.55041539028914e-05]\n",
    "  ouster/points:\n",
    "    type: LIDAR\n",
    "    extrinsics:\n",
    "      axis_angle: [-1.162643609301952, 1.2383899554908, -1.156430220577199]\n",
    "      translation: [0.08961128552674028, 0.227704752288137, -0.1212762302770224]"
   ]
  }
 ],
 "metadata": {
  "kernelspec": {
   "display_name": "Python 3 (ipykernel)",
   "language": "python",
   "name": "python3"
  },
  "language_info": {
   "codemirror_mode": {
    "name": "ipython",
    "version": 3
   },
   "file_extension": ".py",
   "mimetype": "text/x-python",
   "name": "python",
   "nbconvert_exporter": "python",
   "pygments_lexer": "ipython3",
   "version": "3.8.10"
  }
 },
 "nbformat": 4,
 "nbformat_minor": 5
}
